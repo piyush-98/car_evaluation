{
 "cells": [
  {
   "cell_type": "code",
   "execution_count": 69,
   "metadata": {},
   "outputs": [
    {
     "name": "stdout",
     "output_type": "stream",
     "text": [
      "['unacc' 'acc' 'vgood' 'good']\n",
      "[2 2 2 ... 2 1 3]\n"
     ]
    }
   ],
   "source": [
    "%matplotlib notebook\n",
    "import numpy as np ##importing modules\n",
    "import pandas as pd\n",
    "import matplotlib.pyplot as plt\n",
    "from sklearn import preprocessing\n",
    "from sklearn.model_selection import train_test_split\n",
    "data=pd.read_table('data.txt',header=None,sep=\",\") ##reading the comma separated csv file\n",
    "df=pd.DataFrame(data) ##pandas dataframe\n",
    "print(df[6].unique())##labels\n",
    "df[3]=df[3].replace('more',5)\n",
    "df[2]=df[2].replace('5more',5)\n",
    "y_lable=df[6]\n",
    "del df[6]\n",
    "#print(y_label)\n"
   ]
  },
  {
   "cell_type": "code",
   "execution_count": 72,
   "metadata": {},
   "outputs": [
    {
     "name": "stdout",
     "output_type": "stream",
     "text": [
      "(1728, 7)\n"
     ]
    }
   ],
   "source": [
    "df=pd.get_dummies(df,columns=[4],drop_first=True) ##one hot encoding the ordinal catagorical var\n",
    "from sklearn import preprocessing\n",
    "le = preprocessing.LabelEncoder() ##simple encoding of catagorical vars \n",
    "df[0]=le.fit_transform(df[0])\n",
    "df[1]=le.fit_transform(df[1])\n",
    "df[5]=le.fit_transform(df[5])"
   ]
  },
  {
   "cell_type": "code",
   "execution_count": 73,
   "metadata": {},
   "outputs": [
    {
     "name": "stdout",
     "output_type": "stream",
     "text": [
      "(1728, 7)\n"
     ]
    }
   ],
   "source": [
    "print(df.shape)"
   ]
  },
  {
   "cell_type": "code",
   "execution_count": 76,
   "metadata": {},
   "outputs": [
    {
     "name": "stdout",
     "output_type": "stream",
     "text": [
      "[2 2 2 ... 2 1 3]\n"
     ]
    }
   ],
   "source": [
    "from sklearn import preprocessing\n",
    "le = preprocessing.LabelEncoder()\n",
    "y_label=le.fit_transform(y_label)##encoding the labels\n",
    "print(y_label)"
   ]
  },
  {
   "cell_type": "code",
   "execution_count": 75,
   "metadata": {},
   "outputs": [
    {
     "name": "stdout",
     "output_type": "stream",
     "text": [
      "[2 2 2 ... 2 1 3]\n",
      "(432,)\n",
      "0.9976851851851852\n",
      "0.8935185185185185\n"
     ]
    }
   ],
   "source": [
    "print(y_label)\n",
    "X_train, X_test, y_train, y_test = train_test_split(df,y_label, random_state = 0,shuffle=False) ##splitting the data into training nad testing\n",
    "print(y_test.shape)\n",
    "from sklearn.svm import SVC  ##support vector machine for classification\n",
    "clf = SVC(C=10,kernel='rbf').fit(X_train, y_train)\n",
    "print(clf.score(X_train,y_train))\n",
    "print(clf.score(X_test,y_test))\n"
   ]
  },
  {
   "cell_type": "code",
   "execution_count": 12,
   "metadata": {},
   "outputs": [
    {
     "name": "stdout",
     "output_type": "stream",
     "text": [
      "0.5972222222222222\n"
     ]
    }
   ],
   "source": [
    "from sklearn.dummy import DummyClassifier ##cheking the imbalancing of the datset by creating a dummy classifier based on most frequent strategy\n",
    "dummy=DummyClassifier(strategy='most_frequent').fit(X_train,y_train)\n",
    "print(dummy.score(X_test,y_test))\n",
    "y_dummy_predictions = dummy.predict(X_test) ## the accuracy came around 60% while the SVC accuracy was 90% hence it is cleared that the model i mad is not imbalanced"
   ]
  },
  {
   "cell_type": "code",
   "execution_count": null,
   "metadata": {},
   "outputs": [],
   "source": [
    "\n"
   ]
  },
  {
   "cell_type": "code",
   "execution_count": null,
   "metadata": {},
   "outputs": [],
   "source": []
  }
 ],
 "metadata": {
  "kernelspec": {
   "display_name": "Python 3",
   "language": "python",
   "name": "python3"
  },
  "language_info": {
   "codemirror_mode": {
    "name": "ipython",
    "version": 3
   },
   "file_extension": ".py",
   "mimetype": "text/x-python",
   "name": "python",
   "nbconvert_exporter": "python",
   "pygments_lexer": "ipython3",
   "version": "3.6.4"
  }
 },
 "nbformat": 4,
 "nbformat_minor": 2
}
